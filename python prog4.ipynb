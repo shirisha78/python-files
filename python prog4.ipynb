{
 "cells": [
  {
   "cell_type": "markdown",
   "metadata": {},
   "source": [
    "### standard libraries\n",
    "- file I/O\n",
    "- regular expression\n",
    "- datetime\n",
    "- math(numerical and mathematical)\n"
   ]
  },
  {
   "cell_type": "markdown",
   "metadata": {},
   "source": [
    "### file handling in python\n",
    "* file: document containing information resides on the permanent storage\n",
    "* different types of files : txt,doc,pdf,csv and etc...\n",
    "* input -- keyboard\n",
    "* output -- file \n",
    "### modes of the file I/O\n",
    "* 'w' -- this mode is used to file writting\n",
    "      -- if the file is not present first it creates the file and write so me data to it"
   ]
  },
  {
   "cell_type": "code",
   "execution_count": 2,
   "metadata": {},
   "outputs": [
    {
     "name": "stdout",
     "output_type": "stream",
     "text": [
      "file is created and data has written\n"
     ]
    }
   ],
   "source": [
    "# function to create file and write the file\n",
    "def createfile(filename):\n",
    "    f = open(filename,'w')\n",
    "    for i in range(10):\n",
    "        f.write('this is %d line\\n' % i)\n",
    "    print(\"file is created and data has written\")\n",
    "    return\n",
    "createfile('file1.txt')\n",
    "\n",
    "    \n",
    "              "
   ]
  },
  {
   "cell_type": "code",
   "execution_count": 3,
   "metadata": {},
   "outputs": [
    {
     "name": "stdout",
     "output_type": "stream",
     "text": [
      " Volume in drive C has no label.\n",
      " Volume Serial Number is 5EC6-B4C9\n",
      "\n",
      " Directory of C:\\Users\\student\n",
      "\n",
      "11-07-2019  09:38    <DIR>          .\n",
      "11-07-2019  09:38    <DIR>          ..\n",
      "02-07-2019  11:40    <DIR>          .anaconda\n",
      "19-06-2019  16:58               158 .bash_history\n",
      "02-07-2019  16:04    <DIR>          .conda\n",
      "02-07-2019  11:56                43 .condarc\n",
      "11-07-2019  09:09    <DIR>          .ipynb_checkpoints\n",
      "22-06-2019  09:57    <DIR>          .ipython\n",
      "24-06-2019  12:03    <DIR>          .jupyter\n",
      "08-07-2019  16:02             1,254 12345.ipynb\n",
      "02-07-2019  16:03    <DIR>          2218104017\n",
      "22-06-2019  09:55    <DIR>          Anaconda3\n",
      "17-06-2019  14:13    <DIR>          Contacts\n",
      "05-07-2019  13:26    <DIR>          Desktop\n",
      "22-06-2019  09:55    <DIR>          Documents\n",
      "10-07-2019  09:12    <DIR>          Downloads\n",
      "17-06-2019  14:13    <DIR>          Favorites\n",
      "11-07-2019  09:38               160 file1.txt\n",
      "17-06-2019  14:13    <DIR>          Links\n",
      "17-06-2019  14:13    <DIR>          Music\n",
      "17-06-2019  14:13    <DIR>          Pictures\n",
      "10-07-2019  09:09               555 python 3 programs.ipynb\n",
      "11-07-2019  09:36             1,333 python prog4.ipynb\n",
      "10-07-2019  16:02            19,448 python programs3.ipynb\n",
      "22-06-2019  14:49             1,726 sample.ipynb\n",
      "25-06-2019  14:21           104,293 sample1.ipynb\n",
      "17-06-2019  14:13    <DIR>          Saved Games\n",
      "17-06-2019  14:13    <DIR>          Searches\n",
      "24-06-2019  15:05             2,249 Untitled.ipynb\n",
      "08-07-2019  15:56             1,254 Untitled1.ipynb\n",
      "17-06-2019  14:13    <DIR>          Videos\n",
      "              11 File(s)        132,473 bytes\n",
      "              20 Dir(s)  77,726,375,936 bytes free\n"
     ]
    }
   ],
   "source": [
    "ls"
   ]
  },
  {
   "cell_type": "code",
   "execution_count": 4,
   "metadata": {},
   "outputs": [
    {
     "name": "stdout",
     "output_type": "stream",
     "text": [
      "file is created and data has written\n"
     ]
    }
   ],
   "source": [
    "def createfile(filename):\n",
    "    f = open(filename,'w')\n",
    "    f.write('testing...\\n')\n",
    "    print(\"file is created and data has written\")\n",
    "    return\n",
    "createfile('file1.txt')\n"
   ]
  },
  {
   "cell_type": "code",
   "execution_count": 5,
   "metadata": {},
   "outputs": [
    {
     "name": "stdout",
     "output_type": "stream",
     "text": [
      " Volume in drive C has no label.\n",
      " Volume Serial Number is 5EC6-B4C9\n",
      "\n",
      " Directory of C:\\Users\\student\n",
      "\n",
      "11-07-2019  09:52    <DIR>          .\n",
      "11-07-2019  09:52    <DIR>          ..\n",
      "02-07-2019  11:40    <DIR>          .anaconda\n",
      "19-06-2019  16:58               158 .bash_history\n",
      "02-07-2019  16:04    <DIR>          .conda\n",
      "02-07-2019  11:56                43 .condarc\n",
      "11-07-2019  09:09    <DIR>          .ipynb_checkpoints\n",
      "22-06-2019  09:57    <DIR>          .ipython\n",
      "24-06-2019  12:03    <DIR>          .jupyter\n",
      "08-07-2019  16:02             1,254 12345.ipynb\n",
      "02-07-2019  16:03    <DIR>          2218104017\n",
      "22-06-2019  09:55    <DIR>          Anaconda3\n",
      "17-06-2019  14:13    <DIR>          Contacts\n",
      "05-07-2019  13:26    <DIR>          Desktop\n",
      "22-06-2019  09:55    <DIR>          Documents\n",
      "10-07-2019  09:12    <DIR>          Downloads\n",
      "17-06-2019  14:13    <DIR>          Favorites\n",
      "11-07-2019  09:53                12 file1.txt\n",
      "17-06-2019  14:13    <DIR>          Links\n",
      "17-06-2019  14:13    <DIR>          Music\n",
      "17-06-2019  14:13    <DIR>          Pictures\n",
      "10-07-2019  09:09               555 python 3 programs.ipynb\n",
      "11-07-2019  09:52             4,216 python prog4.ipynb\n",
      "10-07-2019  16:02            19,448 python programs3.ipynb\n",
      "22-06-2019  14:49             1,726 sample.ipynb\n",
      "25-06-2019  14:21           104,293 sample1.ipynb\n",
      "17-06-2019  14:13    <DIR>          Saved Games\n",
      "17-06-2019  14:13    <DIR>          Searches\n",
      "24-06-2019  15:05             2,249 Untitled.ipynb\n",
      "08-07-2019  15:56             1,254 Untitled1.ipynb\n",
      "17-06-2019  14:13    <DIR>          Videos\n",
      "              11 File(s)        135,208 bytes\n",
      "              20 Dir(s)  77,726,482,432 bytes free\n"
     ]
    }
   ],
   "source": [
    "ls"
   ]
  },
  {
   "cell_type": "code",
   "execution_count": 6,
   "metadata": {},
   "outputs": [
    {
     "name": "stdout",
     "output_type": "stream",
     "text": [
      "file is created successfully and data written\n"
     ]
    }
   ],
   "source": [
    "def appenddata(filename):\n",
    "    f = open(filename,'a')\n",
    "    for i in range(10):\n",
    "        f.write(\"this is %d line\\n\" % i)\n",
    "    print(\"file is created successfully and data written\")\n",
    "    return\n",
    "appenddata('file2.txt')"
   ]
  },
  {
   "cell_type": "code",
   "execution_count": 7,
   "metadata": {},
   "outputs": [
    {
     "name": "stdout",
     "output_type": "stream",
     "text": [
      "file is created successfully and data written\n"
     ]
    }
   ],
   "source": [
    "def appenddata(filename):\n",
    "    f = open(filename,'a')\n",
    "    f.write(\"new line1 \\n\")\n",
    "    f.write(\"new line2 \\n\")\n",
    "    print(\"file is created successfully and data written\")\n",
    "    return\n",
    "appenddata('file2.txt')"
   ]
  },
  {
   "cell_type": "code",
   "execution_count": 4,
   "metadata": {},
   "outputs": [
    {
     "name": "stdout",
     "output_type": "stream",
     "text": [
      "testing...\n",
      "\n"
     ]
    }
   ],
   "source": [
    "# funtion to read the file\n",
    "def readfiledata(filename):\n",
    "    f=open(filename,'r')\n",
    "    if f.mode=='r':\n",
    "        x=f.read()\n",
    "        print(x)\n",
    "    f.close()\n",
    "    return\n",
    "readfiledata(\"file1.txt\")"
   ]
  },
  {
   "cell_type": "code",
   "execution_count": 13,
   "metadata": {},
   "outputs": [
    {
     "name": "stdout",
     "output_type": "stream",
     "text": [
      "enter the filename:file1.txt\n",
      "enter the mode of the filer\n",
      "testing...\n",
      "\n"
     ]
    }
   ],
   "source": [
    "# funtion to read the file\n",
    "def fileoperation(filename,mode):\n",
    "    with open(filename,mode) as f:\n",
    "        if f.mode=='r':\n",
    "            data=f.read()\n",
    "            print(data)\n",
    "        elif f.mode=='a':\n",
    "                f.write('data to the file')\n",
    "                print('the data successfully')\n",
    "                f.close()\n",
    "        return\n",
    "filename=input('enter the filename:')\n",
    "mode=input('enter the mode of the file')\n",
    "fileoperation(filename,mode)\n",
    "        "
   ]
  },
  {
   "cell_type": "code",
   "execution_count": 2,
   "metadata": {},
   "outputs": [
    {
     "name": "stdout",
     "output_type": "stream",
     "text": [
      "enter the filename:file2.txt\n",
      "enter the word:\\n\n"
     ]
    },
    {
     "data": {
      "text/plain": [
       "0"
      ]
     },
     "execution_count": 2,
     "metadata": {},
     "output_type": "execute_result"
    }
   ],
   "source": [
    "# data analysis\n",
    "# word count program\n",
    "def wordcount(filename,word):\n",
    "    with open(filename,'r') as f:\n",
    "        if f.mode=='r' :\n",
    "            x=f.read()\n",
    "            li=x.split()\n",
    "    cnt=li.count(word)\n",
    "    return cnt\n",
    "filename=input('enter the filename:')\n",
    "word=input('enter the word:')\n",
    "wordcount(filename,word)"
   ]
  },
  {
   "cell_type": "code",
   "execution_count": 7,
   "metadata": {},
   "outputs": [
    {
     "name": "stdout",
     "output_type": "stream",
     "text": [
      "filename: file1.txt\n"
     ]
    },
    {
     "data": {
      "text/plain": [
       "11"
      ]
     },
     "execution_count": 7,
     "metadata": {},
     "output_type": "execute_result"
    }
   ],
   "source": [
    "# character count from the given file\n",
    "def charcount(filname):\n",
    "    with open(filename,'r') as f:\n",
    "        if f.mode=='r':\n",
    "            x=f.read()\n",
    "            li=list(x)\n",
    "    return len(li)\n",
    "filename=input(\"filename: \")\n",
    "charcount(filename)"
   ]
  },
  {
   "cell_type": "code",
   "execution_count": 10,
   "metadata": {},
   "outputs": [
    {
     "name": "stdout",
     "output_type": "stream",
     "text": [
      "filename: file2.txt\n"
     ]
    },
    {
     "data": {
      "text/plain": [
       "13"
      ]
     },
     "execution_count": 10,
     "metadata": {},
     "output_type": "execute_result"
    }
   ],
   "source": [
    "def countoflines(filname):\n",
    "    with open(filename,'r') as f:\n",
    "        if f.mode=='r':\n",
    "            x=f.read()\n",
    "            li=x.split(\"\\n\")\n",
    "    return len(li)\n",
    "filename=input(\"filename: \")\n",
    "countoflines(filename)"
   ]
  },
  {
   "cell_type": "code",
   "execution_count": 13,
   "metadata": {},
   "outputs": [
    {
     "name": "stdout",
     "output_type": "stream",
     "text": [
      "C:\\\n"
     ]
    }
   ],
   "source": [
    "cd .."
   ]
  },
  {
   "cell_type": "code",
   "execution_count": 12,
   "metadata": {},
   "outputs": [
    {
     "ename": "FileNotFoundError",
     "evalue": "[WinError 3] The system cannot find the path specified: 'Git/'",
     "output_type": "error",
     "traceback": [
      "\u001b[1;31m---------------------------------------------------------------------------\u001b[0m",
      "\u001b[1;31mFileNotFoundError\u001b[0m                         Traceback (most recent call last)",
      "\u001b[1;32m<ipython-input-12-c0b7b42cf694>\u001b[0m in \u001b[0;36m<module>\u001b[1;34m\u001b[0m\n\u001b[0;32m      1\u001b[0m \u001b[1;32mimport\u001b[0m \u001b[0mos\u001b[0m\u001b[1;33m\u001b[0m\u001b[1;33m\u001b[0m\u001b[0m\n\u001b[1;32m----> 2\u001b[1;33m \u001b[0mos\u001b[0m\u001b[1;33m.\u001b[0m\u001b[0mlistdir\u001b[0m\u001b[1;33m(\u001b[0m\u001b[1;34m'Git/'\u001b[0m\u001b[1;33m)\u001b[0m\u001b[1;33m\u001b[0m\u001b[1;33m\u001b[0m\u001b[0m\n\u001b[0m",
      "\u001b[1;31mFileNotFoundError\u001b[0m: [WinError 3] The system cannot find the path specified: 'Git/'"
     ]
    }
   ],
   "source": [
    "import os\n",
    "os.listdir('Git/')"
   ]
  },
  {
   "cell_type": "code",
   "execution_count": 14,
   "metadata": {},
   "outputs": [
    {
     "name": "stdout",
     "output_type": "stream",
     "text": [
      "[WinError 3] The system cannot find the path specified: 'desktop/python/Git'\n",
      "C:\\\n"
     ]
    }
   ],
   "source": [
    "cd desktop/python/Git"
   ]
  },
  {
   "cell_type": "code",
   "execution_count": 15,
   "metadata": {},
   "outputs": [
    {
     "name": "stdout",
     "output_type": "stream",
     "text": [
      "[WinError 3] The system cannot find the path specified: 'Desktop/python files/Git'\n",
      "C:\\\n"
     ]
    }
   ],
   "source": [
    "cd Desktop/python files/Git"
   ]
  },
  {
   "cell_type": "code",
   "execution_count": 20,
   "metadata": {},
   "outputs": [
    {
     "name": "stdout",
     "output_type": "stream",
     "text": [
      "C:\\Users\\student\n"
     ]
    }
   ],
   "source": [
    "cd"
   ]
  },
  {
   "cell_type": "code",
   "execution_count": 19,
   "metadata": {},
   "outputs": [
    {
     "ename": "FileNotFoundError",
     "evalue": "[WinError 3] The system cannot find the path specified: 'student/'",
     "output_type": "error",
     "traceback": [
      "\u001b[1;31m---------------------------------------------------------------------------\u001b[0m",
      "\u001b[1;31mFileNotFoundError\u001b[0m                         Traceback (most recent call last)",
      "\u001b[1;32m<ipython-input-19-dfc54114671d>\u001b[0m in \u001b[0;36m<module>\u001b[1;34m\u001b[0m\n\u001b[0;32m      1\u001b[0m \u001b[1;32mimport\u001b[0m \u001b[0mos\u001b[0m\u001b[1;33m\u001b[0m\u001b[1;33m\u001b[0m\u001b[0m\n\u001b[1;32m----> 2\u001b[1;33m \u001b[0mos\u001b[0m\u001b[1;33m.\u001b[0m\u001b[0mlistdir\u001b[0m\u001b[1;33m(\u001b[0m\u001b[1;34m'student/'\u001b[0m\u001b[1;33m)\u001b[0m\u001b[1;33m\u001b[0m\u001b[1;33m\u001b[0m\u001b[0m\n\u001b[0m",
      "\u001b[1;31mFileNotFoundError\u001b[0m: [WinError 3] The system cannot find the path specified: 'student/'"
     ]
    }
   ],
   "source": [
    "import os\n",
    "os.listdir('/')"
   ]
  },
  {
   "cell_type": "code",
   "execution_count": null,
   "metadata": {},
   "outputs": [],
   "source": []
  }
 ],
 "metadata": {
  "kernelspec": {
   "display_name": "Python 3",
   "language": "python",
   "name": "python3"
  },
  "language_info": {
   "codemirror_mode": {
    "name": "ipython",
    "version": 3
   },
   "file_extension": ".py",
   "mimetype": "text/x-python",
   "name": "python",
   "nbconvert_exporter": "python",
   "pygments_lexer": "ipython3",
   "version": "3.7.3"
  }
 },
 "nbformat": 4,
 "nbformat_minor": 2
}
